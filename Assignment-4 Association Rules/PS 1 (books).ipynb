{
 "cells": [
  {
   "cell_type": "markdown",
   "metadata": {
    "id": "qiHf7gYb-GUl"
   },
   "source": [
    "# Assignment 4: Association Rules\n"
   ]
  },
  {
   "cell_type": "markdown",
   "metadata": {
    "id": "91oVi0TI-P1U"
   },
   "source": [
    "## Problem Statement 1:\n",
    " Kitabi Duniya, a famous book store in India, which was established before Independence, the growth of the company was incremental year by year, but due to online selling of books and wide spread Internet access its annual growth started to collapse, seeing sharp downfalls, you as a Data Scientist help this heritage book store gain its popularity back and increase footfall of customers and provide ways the business can improve exponentially, apply Association RuleAlgorithm, explain the rules, and visualize the graphs for clear understanding of solution."
   ]
  },
  {
   "cell_type": "markdown",
   "metadata": {
    "id": "82nP56ZH-hPy"
   },
   "source": [
    "### **Business Objective**\n",
    "Kitabi Duniya, a historic bookstore, has experienced a decline in its growth due to the rise of online book sales and widespread internet access. The primary objective is to leverage data science techniques, specifically the Association Rule Algorithm, to help the business regain popularity and increase customer footfall. The goal is to identify patterns in customer purchasing behavior to drive sales, improve product recommendations, and enhance customer engagement.\n",
    "\n",
    ">**Key Objectives:**\n",
    "\n",
    "**Maximize Customer Footfall:**\n",
    "- Analyze buying patterns to recommend books or bundles that attract more customers and increase the chances of cross-selling.\n",
    "\n",
    "**Maximize Sales:**\n",
    "- Use association rules to offer targeted promotions and product recommendations that boost overall sales.\n",
    "\n",
    "**Maximize Customer Retention:**\n",
    "- Increase loyalty by personalizing customer experiences through effective book recommendations based on historical purchase data."
   ]
  },
  {
   "cell_type": "markdown",
   "metadata": {
    "id": "_5Jiq03B_xPU"
   },
   "source": [
    "### **Constraints:**\n",
    "\n",
    "- **Data Availability:** The bookstore may have limited data on customer behavior, especially if historical sales were not well-documented before digitization.\n",
    "\n",
    "- **Competition from Online Platforms:** Competing with large online bookstores that offer lower prices and faster shipping.\n",
    "\n",
    "- **Customer Preferences:** Adapting to the preferences of modern customers who may be more inclined to buy books online rather than visit a physical store.\n",
    "\n",
    "- **Operational Costs:** Implementing data-driven strategies without exceeding budget constraints for marketing, inventory management, or technology adoption."
   ]
  },
  {
   "cell_type": "code",
   "execution_count": 2,
   "metadata": {
    "colab": {
     "base_uri": "https://localhost:8080/",
     "height": 206
    },
    "id": "8_bhgaSC-Dns",
    "outputId": "38bc432d-32ee-41af-9e5b-fd24cf3b9d20"
   },
   "outputs": [
    {
     "data": {
      "application/vnd.google.colaboratory.intrinsic+json": {
       "summary": "{\n  \"name\": \"df\",\n  \"rows\": 2000,\n  \"fields\": [\n    {\n      \"column\": \"ChildBks\",\n      \"properties\": {\n        \"dtype\": \"number\",\n        \"std\": 0,\n        \"min\": 0,\n        \"max\": 1,\n        \"num_unique_values\": 2,\n        \"samples\": [\n          1,\n          0\n        ],\n        \"semantic_type\": \"\",\n        \"description\": \"\"\n      }\n    },\n    {\n      \"column\": \"YouthBks\",\n      \"properties\": {\n        \"dtype\": \"number\",\n        \"std\": 0,\n        \"min\": 0,\n        \"max\": 1,\n        \"num_unique_values\": 2,\n        \"samples\": [\n          0,\n          1\n        ],\n        \"semantic_type\": \"\",\n        \"description\": \"\"\n      }\n    },\n    {\n      \"column\": \"CookBks\",\n      \"properties\": {\n        \"dtype\": \"number\",\n        \"std\": 0,\n        \"min\": 0,\n        \"max\": 1,\n        \"num_unique_values\": 2,\n        \"samples\": [\n          1,\n          0\n        ],\n        \"semantic_type\": \"\",\n        \"description\": \"\"\n      }\n    },\n    {\n      \"column\": \"DoItYBks\",\n      \"properties\": {\n        \"dtype\": \"number\",\n        \"std\": 0,\n        \"min\": 0,\n        \"max\": 1,\n        \"num_unique_values\": 2,\n        \"samples\": [\n          0,\n          1\n        ],\n        \"semantic_type\": \"\",\n        \"description\": \"\"\n      }\n    },\n    {\n      \"column\": \"RefBks\",\n      \"properties\": {\n        \"dtype\": \"number\",\n        \"std\": 0,\n        \"min\": 0,\n        \"max\": 1,\n        \"num_unique_values\": 2,\n        \"samples\": [\n          1,\n          0\n        ],\n        \"semantic_type\": \"\",\n        \"description\": \"\"\n      }\n    },\n    {\n      \"column\": \"ArtBks\",\n      \"properties\": {\n        \"dtype\": \"number\",\n        \"std\": 0,\n        \"min\": 0,\n        \"max\": 1,\n        \"num_unique_values\": 2,\n        \"samples\": [\n          1,\n          0\n        ],\n        \"semantic_type\": \"\",\n        \"description\": \"\"\n      }\n    },\n    {\n      \"column\": \"GeogBks\",\n      \"properties\": {\n        \"dtype\": \"number\",\n        \"std\": 0,\n        \"min\": 0,\n        \"max\": 1,\n        \"num_unique_values\": 2,\n        \"samples\": [\n          0,\n          1\n        ],\n        \"semantic_type\": \"\",\n        \"description\": \"\"\n      }\n    },\n    {\n      \"column\": \"ItalCook\",\n      \"properties\": {\n        \"dtype\": \"number\",\n        \"std\": 0,\n        \"min\": 0,\n        \"max\": 1,\n        \"num_unique_values\": 2,\n        \"samples\": [\n          1,\n          0\n        ],\n        \"semantic_type\": \"\",\n        \"description\": \"\"\n      }\n    },\n    {\n      \"column\": \"ItalAtlas\",\n      \"properties\": {\n        \"dtype\": \"number\",\n        \"std\": 0,\n        \"min\": 0,\n        \"max\": 1,\n        \"num_unique_values\": 2,\n        \"samples\": [\n          1,\n          0\n        ],\n        \"semantic_type\": \"\",\n        \"description\": \"\"\n      }\n    },\n    {\n      \"column\": \"ItalArt\",\n      \"properties\": {\n        \"dtype\": \"number\",\n        \"std\": 0,\n        \"min\": 0,\n        \"max\": 1,\n        \"num_unique_values\": 2,\n        \"samples\": [\n          1,\n          0\n        ],\n        \"semantic_type\": \"\",\n        \"description\": \"\"\n      }\n    },\n    {\n      \"column\": \"Florence\",\n      \"properties\": {\n        \"dtype\": \"number\",\n        \"std\": 0,\n        \"min\": 0,\n        \"max\": 1,\n        \"num_unique_values\": 2,\n        \"samples\": [\n          1,\n          0\n        ],\n        \"semantic_type\": \"\",\n        \"description\": \"\"\n      }\n    }\n  ]\n}",
       "type": "dataframe",
       "variable_name": "df"
      },
      "text/html": [
       "\n",
       "  <div id=\"df-08bd15d7-0ccd-4de3-848a-e29ff9eff430\" class=\"colab-df-container\">\n",
       "    <div>\n",
       "<style scoped>\n",
       "    .dataframe tbody tr th:only-of-type {\n",
       "        vertical-align: middle;\n",
       "    }\n",
       "\n",
       "    .dataframe tbody tr th {\n",
       "        vertical-align: top;\n",
       "    }\n",
       "\n",
       "    .dataframe thead th {\n",
       "        text-align: right;\n",
       "    }\n",
       "</style>\n",
       "<table border=\"1\" class=\"dataframe\">\n",
       "  <thead>\n",
       "    <tr style=\"text-align: right;\">\n",
       "      <th></th>\n",
       "      <th>ChildBks</th>\n",
       "      <th>YouthBks</th>\n",
       "      <th>CookBks</th>\n",
       "      <th>DoItYBks</th>\n",
       "      <th>RefBks</th>\n",
       "      <th>ArtBks</th>\n",
       "      <th>GeogBks</th>\n",
       "      <th>ItalCook</th>\n",
       "      <th>ItalAtlas</th>\n",
       "      <th>ItalArt</th>\n",
       "      <th>Florence</th>\n",
       "    </tr>\n",
       "  </thead>\n",
       "  <tbody>\n",
       "    <tr>\n",
       "      <th>0</th>\n",
       "      <td>0</td>\n",
       "      <td>1</td>\n",
       "      <td>0</td>\n",
       "      <td>1</td>\n",
       "      <td>0</td>\n",
       "      <td>0</td>\n",
       "      <td>1</td>\n",
       "      <td>0</td>\n",
       "      <td>0</td>\n",
       "      <td>0</td>\n",
       "      <td>0</td>\n",
       "    </tr>\n",
       "    <tr>\n",
       "      <th>1</th>\n",
       "      <td>1</td>\n",
       "      <td>0</td>\n",
       "      <td>0</td>\n",
       "      <td>0</td>\n",
       "      <td>0</td>\n",
       "      <td>0</td>\n",
       "      <td>0</td>\n",
       "      <td>0</td>\n",
       "      <td>0</td>\n",
       "      <td>0</td>\n",
       "      <td>0</td>\n",
       "    </tr>\n",
       "    <tr>\n",
       "      <th>2</th>\n",
       "      <td>0</td>\n",
       "      <td>0</td>\n",
       "      <td>0</td>\n",
       "      <td>0</td>\n",
       "      <td>0</td>\n",
       "      <td>0</td>\n",
       "      <td>0</td>\n",
       "      <td>0</td>\n",
       "      <td>0</td>\n",
       "      <td>0</td>\n",
       "      <td>0</td>\n",
       "    </tr>\n",
       "    <tr>\n",
       "      <th>3</th>\n",
       "      <td>1</td>\n",
       "      <td>1</td>\n",
       "      <td>1</td>\n",
       "      <td>0</td>\n",
       "      <td>1</td>\n",
       "      <td>0</td>\n",
       "      <td>1</td>\n",
       "      <td>0</td>\n",
       "      <td>0</td>\n",
       "      <td>0</td>\n",
       "      <td>0</td>\n",
       "    </tr>\n",
       "    <tr>\n",
       "      <th>4</th>\n",
       "      <td>0</td>\n",
       "      <td>0</td>\n",
       "      <td>1</td>\n",
       "      <td>0</td>\n",
       "      <td>0</td>\n",
       "      <td>0</td>\n",
       "      <td>1</td>\n",
       "      <td>0</td>\n",
       "      <td>0</td>\n",
       "      <td>0</td>\n",
       "      <td>0</td>\n",
       "    </tr>\n",
       "  </tbody>\n",
       "</table>\n",
       "</div>\n",
       "    <div class=\"colab-df-buttons\">\n",
       "\n",
       "  <div class=\"colab-df-container\">\n",
       "    <button class=\"colab-df-convert\" onclick=\"convertToInteractive('df-08bd15d7-0ccd-4de3-848a-e29ff9eff430')\"\n",
       "            title=\"Convert this dataframe to an interactive table.\"\n",
       "            style=\"display:none;\">\n",
       "\n",
       "  <svg xmlns=\"http://www.w3.org/2000/svg\" height=\"24px\" viewBox=\"0 -960 960 960\">\n",
       "    <path d=\"M120-120v-720h720v720H120Zm60-500h600v-160H180v160Zm220 220h160v-160H400v160Zm0 220h160v-160H400v160ZM180-400h160v-160H180v160Zm440 0h160v-160H620v160ZM180-180h160v-160H180v160Zm440 0h160v-160H620v160Z\"/>\n",
       "  </svg>\n",
       "    </button>\n",
       "\n",
       "  <style>\n",
       "    .colab-df-container {\n",
       "      display:flex;\n",
       "      gap: 12px;\n",
       "    }\n",
       "\n",
       "    .colab-df-convert {\n",
       "      background-color: #E8F0FE;\n",
       "      border: none;\n",
       "      border-radius: 50%;\n",
       "      cursor: pointer;\n",
       "      display: none;\n",
       "      fill: #1967D2;\n",
       "      height: 32px;\n",
       "      padding: 0 0 0 0;\n",
       "      width: 32px;\n",
       "    }\n",
       "\n",
       "    .colab-df-convert:hover {\n",
       "      background-color: #E2EBFA;\n",
       "      box-shadow: 0px 1px 2px rgba(60, 64, 67, 0.3), 0px 1px 3px 1px rgba(60, 64, 67, 0.15);\n",
       "      fill: #174EA6;\n",
       "    }\n",
       "\n",
       "    .colab-df-buttons div {\n",
       "      margin-bottom: 4px;\n",
       "    }\n",
       "\n",
       "    [theme=dark] .colab-df-convert {\n",
       "      background-color: #3B4455;\n",
       "      fill: #D2E3FC;\n",
       "    }\n",
       "\n",
       "    [theme=dark] .colab-df-convert:hover {\n",
       "      background-color: #434B5C;\n",
       "      box-shadow: 0px 1px 3px 1px rgba(0, 0, 0, 0.15);\n",
       "      filter: drop-shadow(0px 1px 2px rgba(0, 0, 0, 0.3));\n",
       "      fill: #FFFFFF;\n",
       "    }\n",
       "  </style>\n",
       "\n",
       "    <script>\n",
       "      const buttonEl =\n",
       "        document.querySelector('#df-08bd15d7-0ccd-4de3-848a-e29ff9eff430 button.colab-df-convert');\n",
       "      buttonEl.style.display =\n",
       "        google.colab.kernel.accessAllowed ? 'block' : 'none';\n",
       "\n",
       "      async function convertToInteractive(key) {\n",
       "        const element = document.querySelector('#df-08bd15d7-0ccd-4de3-848a-e29ff9eff430');\n",
       "        const dataTable =\n",
       "          await google.colab.kernel.invokeFunction('convertToInteractive',\n",
       "                                                    [key], {});\n",
       "        if (!dataTable) return;\n",
       "\n",
       "        const docLinkHtml = 'Like what you see? Visit the ' +\n",
       "          '<a target=\"_blank\" href=https://colab.research.google.com/notebooks/data_table.ipynb>data table notebook</a>'\n",
       "          + ' to learn more about interactive tables.';\n",
       "        element.innerHTML = '';\n",
       "        dataTable['output_type'] = 'display_data';\n",
       "        await google.colab.output.renderOutput(dataTable, element);\n",
       "        const docLink = document.createElement('div');\n",
       "        docLink.innerHTML = docLinkHtml;\n",
       "        element.appendChild(docLink);\n",
       "      }\n",
       "    </script>\n",
       "  </div>\n",
       "\n",
       "\n",
       "<div id=\"df-47b4eb5a-3dfd-4932-8fe5-93ddc019273b\">\n",
       "  <button class=\"colab-df-quickchart\" onclick=\"quickchart('df-47b4eb5a-3dfd-4932-8fe5-93ddc019273b')\"\n",
       "            title=\"Suggest charts\"\n",
       "            style=\"display:none;\">\n",
       "\n",
       "<svg xmlns=\"http://www.w3.org/2000/svg\" height=\"24px\"viewBox=\"0 0 24 24\"\n",
       "     width=\"24px\">\n",
       "    <g>\n",
       "        <path d=\"M19 3H5c-1.1 0-2 .9-2 2v14c0 1.1.9 2 2 2h14c1.1 0 2-.9 2-2V5c0-1.1-.9-2-2-2zM9 17H7v-7h2v7zm4 0h-2V7h2v10zm4 0h-2v-4h2v4z\"/>\n",
       "    </g>\n",
       "</svg>\n",
       "  </button>\n",
       "\n",
       "<style>\n",
       "  .colab-df-quickchart {\n",
       "      --bg-color: #E8F0FE;\n",
       "      --fill-color: #1967D2;\n",
       "      --hover-bg-color: #E2EBFA;\n",
       "      --hover-fill-color: #174EA6;\n",
       "      --disabled-fill-color: #AAA;\n",
       "      --disabled-bg-color: #DDD;\n",
       "  }\n",
       "\n",
       "  [theme=dark] .colab-df-quickchart {\n",
       "      --bg-color: #3B4455;\n",
       "      --fill-color: #D2E3FC;\n",
       "      --hover-bg-color: #434B5C;\n",
       "      --hover-fill-color: #FFFFFF;\n",
       "      --disabled-bg-color: #3B4455;\n",
       "      --disabled-fill-color: #666;\n",
       "  }\n",
       "\n",
       "  .colab-df-quickchart {\n",
       "    background-color: var(--bg-color);\n",
       "    border: none;\n",
       "    border-radius: 50%;\n",
       "    cursor: pointer;\n",
       "    display: none;\n",
       "    fill: var(--fill-color);\n",
       "    height: 32px;\n",
       "    padding: 0;\n",
       "    width: 32px;\n",
       "  }\n",
       "\n",
       "  .colab-df-quickchart:hover {\n",
       "    background-color: var(--hover-bg-color);\n",
       "    box-shadow: 0 1px 2px rgba(60, 64, 67, 0.3), 0 1px 3px 1px rgba(60, 64, 67, 0.15);\n",
       "    fill: var(--button-hover-fill-color);\n",
       "  }\n",
       "\n",
       "  .colab-df-quickchart-complete:disabled,\n",
       "  .colab-df-quickchart-complete:disabled:hover {\n",
       "    background-color: var(--disabled-bg-color);\n",
       "    fill: var(--disabled-fill-color);\n",
       "    box-shadow: none;\n",
       "  }\n",
       "\n",
       "  .colab-df-spinner {\n",
       "    border: 2px solid var(--fill-color);\n",
       "    border-color: transparent;\n",
       "    border-bottom-color: var(--fill-color);\n",
       "    animation:\n",
       "      spin 1s steps(1) infinite;\n",
       "  }\n",
       "\n",
       "  @keyframes spin {\n",
       "    0% {\n",
       "      border-color: transparent;\n",
       "      border-bottom-color: var(--fill-color);\n",
       "      border-left-color: var(--fill-color);\n",
       "    }\n",
       "    20% {\n",
       "      border-color: transparent;\n",
       "      border-left-color: var(--fill-color);\n",
       "      border-top-color: var(--fill-color);\n",
       "    }\n",
       "    30% {\n",
       "      border-color: transparent;\n",
       "      border-left-color: var(--fill-color);\n",
       "      border-top-color: var(--fill-color);\n",
       "      border-right-color: var(--fill-color);\n",
       "    }\n",
       "    40% {\n",
       "      border-color: transparent;\n",
       "      border-right-color: var(--fill-color);\n",
       "      border-top-color: var(--fill-color);\n",
       "    }\n",
       "    60% {\n",
       "      border-color: transparent;\n",
       "      border-right-color: var(--fill-color);\n",
       "    }\n",
       "    80% {\n",
       "      border-color: transparent;\n",
       "      border-right-color: var(--fill-color);\n",
       "      border-bottom-color: var(--fill-color);\n",
       "    }\n",
       "    90% {\n",
       "      border-color: transparent;\n",
       "      border-bottom-color: var(--fill-color);\n",
       "    }\n",
       "  }\n",
       "</style>\n",
       "\n",
       "  <script>\n",
       "    async function quickchart(key) {\n",
       "      const quickchartButtonEl =\n",
       "        document.querySelector('#' + key + ' button');\n",
       "      quickchartButtonEl.disabled = true;  // To prevent multiple clicks.\n",
       "      quickchartButtonEl.classList.add('colab-df-spinner');\n",
       "      try {\n",
       "        const charts = await google.colab.kernel.invokeFunction(\n",
       "            'suggestCharts', [key], {});\n",
       "      } catch (error) {\n",
       "        console.error('Error during call to suggestCharts:', error);\n",
       "      }\n",
       "      quickchartButtonEl.classList.remove('colab-df-spinner');\n",
       "      quickchartButtonEl.classList.add('colab-df-quickchart-complete');\n",
       "    }\n",
       "    (() => {\n",
       "      let quickchartButtonEl =\n",
       "        document.querySelector('#df-47b4eb5a-3dfd-4932-8fe5-93ddc019273b button');\n",
       "      quickchartButtonEl.style.display =\n",
       "        google.colab.kernel.accessAllowed ? 'block' : 'none';\n",
       "    })();\n",
       "  </script>\n",
       "</div>\n",
       "\n",
       "    </div>\n",
       "  </div>\n"
      ],
      "text/plain": [
       "   ChildBks  YouthBks  CookBks  DoItYBks  RefBks  ArtBks  GeogBks  ItalCook  \\\n",
       "0         0         1        0         1       0       0        1         0   \n",
       "1         1         0        0         0       0       0        0         0   \n",
       "2         0         0        0         0       0       0        0         0   \n",
       "3         1         1        1         0       1       0        1         0   \n",
       "4         0         0        1         0       0       0        1         0   \n",
       "\n",
       "   ItalAtlas  ItalArt  Florence  \n",
       "0          0        0         0  \n",
       "1          0        0         0  \n",
       "2          0        0         0  \n",
       "3          0        0         0  \n",
       "4          0        0         0  "
      ]
     },
     "execution_count": 2,
     "metadata": {},
     "output_type": "execute_result"
    }
   ],
   "source": [
    "import pandas as pd\n",
    "df=pd.read_csv(\"book.csv\")\n",
    "df.head()"
   ]
  },
  {
   "cell_type": "code",
   "execution_count": 28,
   "metadata": {
    "colab": {
     "base_uri": "https://localhost:8080/"
    },
    "id": "_vdxcgfzBVGA",
    "outputId": "ae44e477-851f-47db-c86d-7043e4814dd0"
   },
   "outputs": [
    {
     "name": "stderr",
     "output_type": "stream",
     "text": [
      "/usr/local/lib/python3.10/dist-packages/ipykernel/ipkernel.py:283: DeprecationWarning: `should_run_async` will not call `transform_cell` automatically in the future. Please pass the result to `transformed_cell` argument and any exception that happen during thetransform in `preprocessing_exc_tuple` in IPython 7.17 and above.\n",
      "  and should_run_async(code)\n",
      "/usr/local/lib/python3.10/dist-packages/mlxtend/frequent_patterns/fpcommon.py:109: DeprecationWarning: DataFrames with non-bool types result in worse computationalperformance and their support might be discontinued in the future.Please use a DataFrame with bool type\n",
      "  warnings.warn(\n"
     ]
    }
   ],
   "source": [
    "#the data is already encoded in format suitable for apriori\n",
    "#step 1: apply the apriori algorithm to find frequent itemsets\n",
    "from mlxtend.frequent_patterns import apriori, association_rules\n",
    "frequent_itemsets=apriori(df,min_support=0.1,use_colnames=True)"
   ]
  },
  {
   "cell_type": "code",
   "execution_count": 35,
   "metadata": {
    "colab": {
     "base_uri": "https://localhost:8080/"
    },
    "id": "fCCB2eXxBfIx",
    "outputId": "5f92f05f-0685-4406-9ece-7dbc9d6fac31"
   },
   "outputs": [
    {
     "name": "stderr",
     "output_type": "stream",
     "text": [
      "/usr/local/lib/python3.10/dist-packages/ipykernel/ipkernel.py:283: DeprecationWarning: `should_run_async` will not call `transform_cell` automatically in the future. Please pass the result to `transformed_cell` argument and any exception that happen during thetransform in `preprocessing_exc_tuple` in IPython 7.17 and above.\n",
      "  and should_run_async(code)\n"
     ]
    }
   ],
   "source": [
    "#step 2: Generate association rules from the frequent itemsets\n",
    "rules=association_rules(frequent_itemsets,metric='lift',min_threshold=2)"
   ]
  },
  {
   "cell_type": "code",
   "execution_count": 36,
   "metadata": {
    "colab": {
     "base_uri": "https://localhost:8080/"
    },
    "id": "7mG-DUieISCY",
    "outputId": "57aa9452-7c27-47ee-8987-c28ea729da2c"
   },
   "outputs": [
    {
     "name": "stdout",
     "output_type": "stream",
     "text": [
      "frequent itemsets:\n",
      "    support                       itemsets\n",
      "0    0.4230                     (ChildBks)\n",
      "1    0.2475                     (YouthBks)\n",
      "2    0.4310                      (CookBks)\n",
      "3    0.2820                     (DoItYBks)\n",
      "4    0.2145                       (RefBks)\n",
      "5    0.2410                       (ArtBks)\n",
      "6    0.2760                      (GeogBks)\n",
      "7    0.1135                     (ItalCook)\n",
      "8    0.1085                     (Florence)\n",
      "9    0.1650           (YouthBks, ChildBks)\n",
      "10   0.2560            (ChildBks, CookBks)\n",
      "11   0.1840           (ChildBks, DoItYBks)\n",
      "12   0.1515             (RefBks, ChildBks)\n",
      "13   0.1625             (ChildBks, ArtBks)\n",
      "14   0.1950            (ChildBks, GeogBks)\n",
      "15   0.1620            (YouthBks, CookBks)\n",
      "16   0.1155           (YouthBks, DoItYBks)\n",
      "17   0.1010             (YouthBks, ArtBks)\n",
      "18   0.1205            (YouthBks, GeogBks)\n",
      "19   0.1875            (DoItYBks, CookBks)\n",
      "20   0.1525              (RefBks, CookBks)\n",
      "21   0.1670              (ArtBks, CookBks)\n",
      "22   0.1925             (GeogBks, CookBks)\n",
      "23   0.1135            (ItalCook, CookBks)\n",
      "24   0.1055             (RefBks, DoItYBks)\n",
      "25   0.1235             (ArtBks, DoItYBks)\n",
      "26   0.1325            (GeogBks, DoItYBks)\n",
      "27   0.1105              (RefBks, GeogBks)\n",
      "28   0.1275              (ArtBks, GeogBks)\n",
      "29   0.1290  (YouthBks, ChildBks, CookBks)\n",
      "30   0.1460  (ChildBks, DoItYBks, CookBks)\n",
      "31   0.1225    (RefBks, ChildBks, CookBks)\n",
      "32   0.1265    (ChildBks, ArtBks, CookBks)\n",
      "33   0.1495   (ChildBks, GeogBks, CookBks)\n",
      "34   0.1045  (ChildBks, GeogBks, DoItYBks)\n",
      "35   0.1020    (ChildBks, ArtBks, GeogBks)\n",
      "36   0.1015    (ArtBks, DoItYBks, CookBks)\n",
      "37   0.1085   (GeogBks, DoItYBks, CookBks)\n",
      "38   0.1035     (ArtBks, GeogBks, CookBks)\n",
      "\n",
      "Association rules:\n",
      "             antecedents           consequents  antecedent support  \\\n",
      "0             (ItalCook)             (CookBks)              0.1135   \n",
      "1              (CookBks)            (ItalCook)              0.4310   \n",
      "2    (ChildBks, CookBks)            (YouthBks)              0.2560   \n",
      "3             (YouthBks)   (ChildBks, CookBks)              0.2475   \n",
      "4    (ChildBks, CookBks)            (DoItYBks)              0.2560   \n",
      "5             (DoItYBks)   (ChildBks, CookBks)              0.2820   \n",
      "6    (ChildBks, CookBks)              (RefBks)              0.2560   \n",
      "7               (RefBks)   (ChildBks, CookBks)              0.2145   \n",
      "8    (ChildBks, CookBks)              (ArtBks)              0.2560   \n",
      "9               (ArtBks)   (ChildBks, CookBks)              0.2410   \n",
      "10   (ChildBks, CookBks)             (GeogBks)              0.2560   \n",
      "11             (GeogBks)   (ChildBks, CookBks)              0.2760   \n",
      "12  (ChildBks, DoItYBks)             (GeogBks)              0.1840   \n",
      "13             (GeogBks)  (ChildBks, DoItYBks)              0.2760   \n",
      "14    (ChildBks, ArtBks)             (GeogBks)              0.1625   \n",
      "15   (ChildBks, GeogBks)              (ArtBks)              0.1950   \n",
      "16              (ArtBks)   (ChildBks, GeogBks)              0.2410   \n",
      "17             (GeogBks)    (ChildBks, ArtBks)              0.2760   \n",
      "18     (ArtBks, CookBks)            (DoItYBks)              0.1670   \n",
      "19   (DoItYBks, CookBks)              (ArtBks)              0.1875   \n",
      "20              (ArtBks)   (DoItYBks, CookBks)              0.2410   \n",
      "21            (DoItYBks)     (ArtBks, CookBks)              0.2820   \n",
      "22   (DoItYBks, CookBks)             (GeogBks)              0.1875   \n",
      "23             (GeogBks)   (DoItYBks, CookBks)              0.2760   \n",
      "24     (ArtBks, CookBks)             (GeogBks)              0.1670   \n",
      "25    (GeogBks, CookBks)              (ArtBks)              0.1925   \n",
      "26              (ArtBks)    (GeogBks, CookBks)              0.2410   \n",
      "27             (GeogBks)     (ArtBks, CookBks)              0.2760   \n",
      "\n",
      "    consequent support  support  confidence      lift  leverage  conviction  \\\n",
      "0               0.4310   0.1135    1.000000  2.320186  0.064582         inf   \n",
      "1               0.1135   0.1135    0.263341  2.320186  0.064582    1.203406   \n",
      "2               0.2475   0.1290    0.503906  2.035985  0.065640    1.516850   \n",
      "3               0.2560   0.1290    0.521212  2.035985  0.065640    1.553924   \n",
      "4               0.2820   0.1460    0.570312  2.022385  0.073808    1.670982   \n",
      "5               0.2560   0.1460    0.517730  2.022385  0.073808    1.542706   \n",
      "6               0.2145   0.1225    0.478516  2.230842  0.067588    1.506277   \n",
      "7               0.2560   0.1225    0.571096  2.230842  0.067588    1.734652   \n",
      "8               0.2410   0.1265    0.494141  2.050376  0.064804    1.500417   \n",
      "9               0.2560   0.1265    0.524896  2.050376  0.064804    1.565974   \n",
      "10              0.2760   0.1495    0.583984  2.115885  0.078844    1.740319   \n",
      "11              0.2560   0.1495    0.541667  2.115885  0.078844    1.623273   \n",
      "12              0.2760   0.1045    0.567935  2.057735  0.053716    1.675673   \n",
      "13              0.1840   0.1045    0.378623  2.057735  0.053716    1.313213   \n",
      "14              0.2760   0.1020    0.627692  2.274247  0.057150    1.944628   \n",
      "15              0.2410   0.1020    0.523077  2.170444  0.055005    1.591452   \n",
      "16              0.1950   0.1020    0.423237  2.170444  0.055005    1.395719   \n",
      "17              0.1625   0.1020    0.369565  2.274247  0.057150    1.328448   \n",
      "18              0.2820   0.1015    0.607784  2.155264  0.054406    1.830626   \n",
      "19              0.2410   0.1015    0.541333  2.246196  0.056313    1.654797   \n",
      "20              0.1875   0.1015    0.421162  2.246196  0.056313    1.403674   \n",
      "21              0.1670   0.1015    0.359929  2.155264  0.054406    1.301418   \n",
      "22              0.2760   0.1085    0.578667  2.096618  0.056750    1.718354   \n",
      "23              0.1875   0.1085    0.393116  2.096618  0.056750    1.338806   \n",
      "24              0.2760   0.1035    0.619760  2.245509  0.057408    1.904063   \n",
      "25              0.2410   0.1035    0.537662  2.230964  0.057107    1.641657   \n",
      "26              0.1925   0.1035    0.429461  2.230964  0.057107    1.415327   \n",
      "27              0.1670   0.1035    0.375000  2.245509  0.057408    1.332800   \n",
      "\n",
      "    zhangs_metric  \n",
      "0        0.641850  \n",
      "1        1.000000  \n",
      "2        0.683921  \n",
      "3        0.676196  \n",
      "4        0.679482  \n",
      "5        0.704087  \n",
      "6        0.741584  \n",
      "7        0.702405  \n",
      "8        0.688555  \n",
      "9        0.674947  \n",
      "10       0.708850  \n",
      "11       0.728432  \n",
      "12       0.629937  \n",
      "13       0.709984  \n",
      "14       0.669008  \n",
      "15       0.669894  \n",
      "16       0.710494  \n",
      "17       0.773887  \n",
      "18       0.643481  \n",
      "19       0.682834  \n",
      "20       0.730966  \n",
      "21       0.746546  \n",
      "22       0.643743  \n",
      "23       0.722433  \n",
      "24       0.665866  \n",
      "25       0.683298  \n",
      "26       0.726961  \n",
      "27       0.766114  \n"
     ]
    },
    {
     "name": "stderr",
     "output_type": "stream",
     "text": [
      "/usr/local/lib/python3.10/dist-packages/ipykernel/ipkernel.py:283: DeprecationWarning: `should_run_async` will not call `transform_cell` automatically in the future. Please pass the result to `transformed_cell` argument and any exception that happen during thetransform in `preprocessing_exc_tuple` in IPython 7.17 and above.\n",
      "  and should_run_async(code)\n"
     ]
    }
   ],
   "source": [
    "# step 3: output the results\n",
    "print(\"frequent itemsets:\")\n",
    "print(frequent_itemsets)\n",
    "print(\"\\nAssociation rules:\")\n",
    "print(rules)"
   ]
  },
  {
   "cell_type": "code",
   "execution_count": 52,
   "metadata": {
    "colab": {
     "base_uri": "https://localhost:8080/"
    },
    "id": "IP-lBGB8IsKV",
    "outputId": "5a1a799c-161e-4b5f-8d7a-d049bf5ab25f"
   },
   "outputs": [
    {
     "name": "stderr",
     "output_type": "stream",
     "text": [
      "/usr/local/lib/python3.10/dist-packages/ipykernel/ipkernel.py:283: DeprecationWarning: `should_run_async` will not call `transform_cell` automatically in the future. Please pass the result to `transformed_cell` argument and any exception that happen during thetransform in `preprocessing_exc_tuple` in IPython 7.17 and above.\n",
      "  and should_run_async(code)\n"
     ]
    }
   ],
   "source": [
    "def suggest_genre(bought_genres, rules):\n",
    "    for _, row in rules.iterrows():\n",
    "        # Get the list of antecendents\n",
    "        antecedents = list(row['antecedents'])\n",
    "        # Get the list of consequents\n",
    "        consequents = list(row['consequents'])\n",
    "        if set(antecedents).issubset(set(bought_genres)):\n",
    "            # If a match is found, return the first consequent\n",
    "            return consequents[0]\n",
    "    return None\n"
   ]
  },
  {
   "cell_type": "code",
   "execution_count": 53,
   "metadata": {
    "colab": {
     "base_uri": "https://localhost:8080/"
    },
    "id": "ckgkMjmIKpjR",
    "outputId": "fd789fe9-ff52-4902-f3de-4fc98b112629"
   },
   "outputs": [
    {
     "name": "stdout",
     "output_type": "stream",
     "text": [
      "Suggested genre: ItalCook\n"
     ]
    },
    {
     "name": "stderr",
     "output_type": "stream",
     "text": [
      "/usr/local/lib/python3.10/dist-packages/ipykernel/ipkernel.py:283: DeprecationWarning: `should_run_async` will not call `transform_cell` automatically in the future. Please pass the result to `transformed_cell` argument and any exception that happen during thetransform in `preprocessing_exc_tuple` in IPython 7.17 and above.\n",
      "  and should_run_async(code)\n"
     ]
    }
   ],
   "source": [
    "bought_genres=['YouthBks','CookBks']\n",
    "suggestedGenre=suggest_genre(bought_genres, rules)\n",
    "\n",
    "if suggestedGenre:\n",
    "  print(f\"Suggested genre: {suggestedGenre}\")\n",
    "else:\n",
    "  print(\"No genre suggestions available based on your current purchases.\")"
   ]
  },
  {
   "cell_type": "code",
   "execution_count": 48,
   "metadata": {
    "colab": {
     "base_uri": "https://localhost:8080/",
     "height": 90
    },
    "id": "ltK0BSPEKqdz",
    "outputId": "2ee6bfae-0129-4471-f32e-9514181ed12c"
   },
   "outputs": [
    {
     "name": "stderr",
     "output_type": "stream",
     "text": [
      "/usr/local/lib/python3.10/dist-packages/ipykernel/ipkernel.py:283: DeprecationWarning: `should_run_async` will not call `transform_cell` automatically in the future. Please pass the result to `transformed_cell` argument and any exception that happen during thetransform in `preprocessing_exc_tuple` in IPython 7.17 and above.\n",
      "  and should_run_async(code)\n"
     ]
    },
    {
     "data": {
      "application/vnd.google.colaboratory.intrinsic+json": {
       "type": "string"
      },
      "text/plain": [
       "'ItalCook'"
      ]
     },
     "execution_count": 48,
     "metadata": {},
     "output_type": "execute_result"
    }
   ],
   "source": [
    "suggest_genre(['ChildBks', 'CookBks'],rules)"
   ]
  },
  {
   "cell_type": "code",
   "execution_count": 49,
   "metadata": {
    "colab": {
     "base_uri": "https://localhost:8080/",
     "height": 90
    },
    "id": "fU6Qok0_N479",
    "outputId": "3e062886-b460-4e5f-ca16-70847320aebb"
   },
   "outputs": [
    {
     "name": "stderr",
     "output_type": "stream",
     "text": [
      "/usr/local/lib/python3.10/dist-packages/ipykernel/ipkernel.py:283: DeprecationWarning: `should_run_async` will not call `transform_cell` automatically in the future. Please pass the result to `transformed_cell` argument and any exception that happen during thetransform in `preprocessing_exc_tuple` in IPython 7.17 and above.\n",
      "  and should_run_async(code)\n"
     ]
    },
    {
     "data": {
      "application/vnd.google.colaboratory.intrinsic+json": {
       "type": "string"
      },
      "text/plain": [
       "'ChildBks'"
      ]
     },
     "execution_count": 49,
     "metadata": {},
     "output_type": "execute_result"
    }
   ],
   "source": [
    "suggest_genre(['GeogBks'],rules)"
   ]
  },
  {
   "cell_type": "code",
   "execution_count": 1,
   "metadata": {
    "id": "sA8TJ8EVO0Tm"
   },
   "outputs": [
    {
     "name": "stdout",
     "output_type": "stream",
     "text": [
      "[main c754bb2] modified PS 1\n",
      " 1 file changed, 792 insertions(+), 782 deletions(-)\n",
      "Enumerating objects: 7, done.\n",
      "Counting objects: 100% (7/7), done.\n",
      "Delta compression using up to 8 threads\n",
      "Compressing objects: 100% (4/4), done.\n",
      "Writing objects: 100% (4/4), 2.87 KiB | 588.00 KiB/s, done.\n",
      "Total 4 (delta 3), reused 0 (delta 0), pack-reused 0\n",
      "remote: Resolving deltas: 100% (3/3), completed with 3 local objects.\u001b[K\n",
      "To github.com:parth-gz/Data-Science-Assignments\n",
      "   9dbe299..c754bb2  main -> main\n"
     ]
    }
   ],
   "source": [
    "!git add \"PS 1 (books).ipynb\"\n",
    "!git commit -m \"modified PS 1\"\n",
    "!git push origin main"
   ]
  },
  {
   "cell_type": "code",
   "execution_count": null,
   "metadata": {},
   "outputs": [],
   "source": []
  }
 ],
 "metadata": {
  "colab": {
   "provenance": []
  },
  "kernelspec": {
   "display_name": "Python 3 (ipykernel)",
   "language": "python",
   "name": "python3"
  },
  "language_info": {
   "codemirror_mode": {
    "name": "ipython",
    "version": 3
   },
   "file_extension": ".py",
   "mimetype": "text/x-python",
   "name": "python",
   "nbconvert_exporter": "python",
   "pygments_lexer": "ipython3",
   "version": "3.12.4"
  }
 },
 "nbformat": 4,
 "nbformat_minor": 4
}
